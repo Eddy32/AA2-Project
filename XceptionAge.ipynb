{
 "cells": [
  {
   "cell_type": "markdown",
   "metadata": {},
   "source": [
    "# Previsão Idade Xception"
   ]
  },
  {
   "cell_type": "raw",
   "metadata": {},
   "source": [
    "Neste notebook será abordado novamente o problema de estimação de idade, utilizando agora a rede Xception. Tal como nos notebooks passados, é preciso, numa fase inicial, carregar os dados dos ficheiros previamente criados. De seguida será feita a separação dos dados para treino/teste e por fim testar-se-á o sucesso da rede. Para tal usaremos não só a métrica da accuracy como de 1Off (ou seja, qual a percentagem de acertar no bin correto ou num diretamente adjacente a este, +/-1)."
   ]
  },
  {
   "cell_type": "markdown",
   "metadata": {},
   "source": [
    "### Imports necessários"
   ]
  },
  {
   "cell_type": "code",
   "execution_count": 1,
   "metadata": {},
   "outputs": [],
   "source": [
    "import tensorflow.keras as keras\n",
    "import pandas as pd\n",
    "import numpy as np\n",
    "import os, shutil\n",
    "import matplotlib.pyplot as plt\n",
    "from PIL import Image"
   ]
  },
  {
   "cell_type": "markdown",
   "metadata": {},
   "source": [
    "## Recuperação dos dados dos ficheiros relativamente as imagens/labels"
   ]
  },
  {
   "cell_type": "raw",
   "metadata": {},
   "source": [
    "Leitura do ficheiro csv correspondente a todas as labels e anexação destas a lista results"
   ]
  },
  {
   "cell_type": "code",
   "execution_count": 2,
   "metadata": {},
   "outputs": [],
   "source": [
    "import csv\n",
    "results = []\n",
    "with open(\"HalfData.csv\") as csvfile:\n",
    "    reader = csv.reader(csvfile, quoting=csv.QUOTE_ALL) # change contents to floats\n",
    "    for row in reader: # each row is a list\n",
    "        results.append(row)"
   ]
  },
  {
   "cell_type": "raw",
   "metadata": {},
   "source": [
    "Processamento das idades e conversão destas para os respetivos bins.\n",
    "Tal como referido anteriormente estes bins seguem a distribuição normal dos dados do dataset"
   ]
  },
  {
   "cell_type": "code",
   "execution_count": 4,
   "metadata": {},
   "outputs": [],
   "source": [
    "labelslist = []\n",
    "label =\"\"\n",
    "for i in range(len(results)):\n",
    "    age = int(results[i][0])\n",
    "    if(age>=18 and age<=21):\n",
    "        label = \"18_21\"\n",
    "    if(age>=22 and age<=24):\n",
    "        label = \"22_24\"\n",
    "    if(age>=25 and age<=28):\n",
    "        label = \"25_28\"\n",
    "    if(age>=29 and age<=33):\n",
    "        label = \"29_33\"\n",
    "    if(age>=34 and age<=40):\n",
    "        label = \"34_40\"\n",
    "    if(age>=41 and age<=47):\n",
    "        label = \"41_47\"\n",
    "    if(age>=48 and age<=55):\n",
    "        label = \"48_55\"\n",
    "    if(age>=56 and age<=65):\n",
    "        label = \"56_65\"\n",
    "    labelslist.append(label)"
   ]
  },
  {
   "cell_type": "code",
   "execution_count": 5,
   "metadata": {},
   "outputs": [
    {
     "data": {
      "text/plain": [
       "array(['56_65', '22_24', '34_40', ..., '25_28', '48_55', '25_28'],\n",
       "      dtype='<U5')"
      ]
     },
     "execution_count": 5,
     "metadata": {},
     "output_type": "execute_result"
    }
   ],
   "source": [
    "labels = np.reshape(labelslist,len(labelslist))\n",
    "labels"
   ]
  },
  {
   "cell_type": "code",
   "execution_count": 6,
   "metadata": {},
   "outputs": [
    {
     "name": "stdout",
     "output_type": "stream",
     "text": [
      "13877\n"
     ]
    },
    {
     "data": {
      "text/plain": [
       "Counter({'56_65': 1346,\n",
       "         '22_24': 1675,\n",
       "         '34_40': 1987,\n",
       "         '41_47': 1603,\n",
       "         '25_28': 2333,\n",
       "         '29_33': 2156,\n",
       "         '48_55': 1561,\n",
       "         '18_21': 1216})"
      ]
     },
     "execution_count": 6,
     "metadata": {},
     "output_type": "execute_result"
    }
   ],
   "source": [
    "import collections\n",
    "print(len(labels))\n",
    "collections.Counter(labels)"
   ]
  },
  {
   "cell_type": "raw",
   "metadata": {},
   "source": [
    "Leitura do ficheiro relativo aos pontos das fotos\n",
    "Neste caso foi utilizado o que possuia metade da informação do dataset (13877 fotos).\n",
    "Este foi guardado em ficheiro binario por uma questão de redução de dimensao (uma vez que este contem 13877*256*256 floats)\n",
    "Ao carregar o array este será convertido para floats 16 bits de modo a necessitar de menos RAM para o seu processamento"
   ]
  },
  {
   "cell_type": "code",
   "execution_count": 7,
   "metadata": {},
   "outputs": [],
   "source": [
    "teste = (np.reshape(np.fromfile(\"HalfData\"),(13877,256,256))).astype('float16')"
   ]
  },
  {
   "cell_type": "code",
   "execution_count": 8,
   "metadata": {},
   "outputs": [
    {
     "data": {
      "text/plain": [
       "array([[[0.1562 , 0.1562 , 0.1562 , ..., 0.118  , 0.1179 , 0.1218 ],\n",
       "        [0.1562 , 0.1562 , 0.1562 , ..., 0.118  , 0.1179 , 0.1218 ],\n",
       "        [0.1562 , 0.1562 , 0.1562 , ..., 0.114  , 0.1179 , 0.114  ],\n",
       "        ...,\n",
       "        [0.9053 , 0.882  , 0.8936 , ..., 0.5767 , 0.54   , 0.548  ],\n",
       "        [0.9053 , 0.9014 , 0.925  , ..., 0.5986 , 0.5557 , 0.548  ],\n",
       "        [0.93   , 0.93   , 0.942  , ..., 0.5986 , 0.54   , 0.552  ]],\n",
       "\n",
       "       [[0.9683 , 0.9683 , 0.9683 , ..., 0.985  , 0.985  , 0.985  ],\n",
       "        [0.9683 , 0.9683 , 0.9683 , ..., 0.985  , 0.985  , 0.985  ],\n",
       "        [0.9683 , 0.9683 , 0.9683 , ..., 0.985  , 0.985  , 0.985  ],\n",
       "        ...,\n",
       "        [0.9243 , 0.9165 , 0.8784 , ..., 0.709  , 0.709  , 0.709  ],\n",
       "        [0.922  , 0.8994 , 0.8916 , ..., 0.977  , 0.977  , 0.977  ],\n",
       "        [0.917  , 0.8984 , 0.9023 , ..., 0.9805 , 0.9805 , 0.9805 ]],\n",
       "\n",
       "       [[0.02353, 0.02353, 0.02353, ..., 0.02846, 0.02846, 0.02846],\n",
       "        [0.02353, 0.02353, 0.02353, ..., 0.02846, 0.02846, 0.02846],\n",
       "        [0.02353, 0.02353, 0.02353, ..., 0.02846, 0.02846, 0.02846],\n",
       "        ...,\n",
       "        [0.2932 , 0.2893 , 0.2893 , ..., 0.1833 , 0.1833 , 0.1842 ],\n",
       "        [0.2932 , 0.2932 , 0.2893 , ..., 0.1873 , 0.1873 , 0.1881 ],\n",
       "        [0.297  , 0.2932 , 0.2893 , ..., 0.1873 , 0.1873 , 0.1881 ]],\n",
       "\n",
       "       ...,\n",
       "\n",
       "       [[0.24   , 0.24   , 0.24   , ..., 0.2072 , 0.2072 , 0.2072 ],\n",
       "        [0.24   , 0.24   , 0.24   , ..., 0.2072 , 0.2072 , 0.2072 ],\n",
       "        [0.24   , 0.24   , 0.24   , ..., 0.2072 , 0.2072 , 0.2072 ],\n",
       "        ...,\n",
       "        [0.7285 , 0.7285 , 0.7285 , ..., 0.867  , 0.867  , 0.867  ],\n",
       "        [0.7285 , 0.7285 , 0.7285 , ..., 0.867  , 0.867  , 0.867  ],\n",
       "        [0.7285 , 0.7285 , 0.7285 , ..., 0.867  , 0.867  , 0.867  ]],\n",
       "\n",
       "       [[0.     , 0.     , 0.     , ..., 0.3357 , 0.2039 , 0.1115 ],\n",
       "        [0.     , 0.     , 0.     , ..., 0.3547 , 0.2312 , 0.1528 ],\n",
       "        [0.     , 0.     , 0.     , ..., 0.3718 , 0.3093 , 0.2598 ],\n",
       "        ...,\n",
       "        [0.0162 , 0.0162 , 0.0162 , ..., 0.448  , 0.4473 , 0.4507 ],\n",
       "        [0.01967, 0.0162 , 0.0162 , ..., 0.4614 , 0.4497 , 0.444  ],\n",
       "        [0.02432, 0.01854, 0.0116 , ..., 0.477  , 0.456  , 0.4382 ]],\n",
       "\n",
       "       [[0.897  , 0.897  , 0.905  , ..., 0.9062 , 0.922  , 0.9336 ],\n",
       "        [0.897  , 0.897  , 0.905  , ..., 0.9023 , 0.922  , 0.9336 ],\n",
       "        [0.893  , 0.893  , 0.901  , ..., 0.8984 , 0.914  , 0.926  ],\n",
       "        ...,\n",
       "        [0.2151 , 0.2112 , 0.2151 , ..., 0.701  , 0.6895 , 0.6855 ],\n",
       "        [0.1954 , 0.1915 , 0.1954 , ..., 0.7285 , 0.717  , 0.709  ],\n",
       "        [0.1876 , 0.1798 , 0.1837 , ..., 0.7407 , 0.7324 , 0.7207 ]]],\n",
       "      dtype=float16)"
      ]
     },
     "execution_count": 8,
     "metadata": {},
     "output_type": "execute_result"
    }
   ],
   "source": [
    "teste"
   ]
  },
  {
   "cell_type": "markdown",
   "metadata": {},
   "source": [
    "## Divisão dos dados para treino e teste"
   ]
  },
  {
   "cell_type": "raw",
   "metadata": {},
   "source": [
    "Uma vez que é necessária uma divisão do dataset para treino e teste, utilizamos o train_test_split com a flag de stratify (garantindo que a distribuição dos dados se mantem nas versões \"reduzidas\") e com random_state, permitindo assim que a operação se torna deterministica (os mesmos dados irao ser divididos sempre para os mesmos conjuntos de treino e teste, enquanto que o valor desta flag se mantenha constante)"
   ]
  },
  {
   "cell_type": "code",
   "execution_count": 9,
   "metadata": {},
   "outputs": [],
   "source": [
    "from sklearn.model_selection import train_test_split\n",
    "X_train, X_test, y_train, y_test = train_test_split(teste,labels, test_size=0.20, stratify=labels, random_state = 2)"
   ]
  },
  {
   "cell_type": "raw",
   "metadata": {},
   "source": [
    "Uma vez dividido os dados, precisamos de os pre-processar antes de os dar a rede. Deste modo convertemos as labels dos dados em one-hot-encondig, correspondendo assim a um array de dimensão 8 (número de classes) com um 1 no indice da classe correspondente"
   ]
  },
  {
   "cell_type": "code",
   "execution_count": 10,
   "metadata": {},
   "outputs": [],
   "source": [
    "#1Hot encondig para as labels de treino\n",
    "train_labels = pd.get_dummies(y_train)\n",
    "train_labels = train_labels.to_numpy()"
   ]
  },
  {
   "cell_type": "code",
   "execution_count": 11,
   "metadata": {},
   "outputs": [],
   "source": [
    "#1Hot encondig para as labels de teste\n",
    "test_labels = pd.get_dummies(y_test)\n",
    "test_labels = test_labels.to_numpy()"
   ]
  },
  {
   "cell_type": "code",
   "execution_count": 13,
   "metadata": {},
   "outputs": [
    {
     "data": {
      "image/png": "[encoded data removed]",
      "text/plain": [
       "<PIL.Image.Image image mode=L size=256x256 at 0x22D209CC748>"
      ]
     },
     "execution_count": 13,
     "metadata": {},
     "output_type": "execute_result"
    }
   ],
   "source": [
    "#Verificação da integridade dos dados -> foto reconstruivel atraves dos pontos \n",
    "image2 = Image.fromarray((X_train[0]*255).astype('uint8'))\n",
    "image2"
   ]
  },
  {
   "cell_type": "raw",
   "metadata": {},
   "source": [
    "Conversão dos dados das fotos para as dimensões corretas, de modo a ser possível passa-los à rede"
   ]
  },
  {
   "cell_type": "code",
   "execution_count": 14,
   "metadata": {},
   "outputs": [],
   "source": [
    "#Reshape para 4 dimensões (nFotos * 256pixeis * 256 pixeis * 1 canal de cor(black&white))\n",
    "train_images = X_train.reshape((len(X_train), 256, 256, 1))\n",
    "test_images = X_test.reshape((len(X_test), 256, 256, 1))\n",
    "\n"
   ]
  },
  {
   "cell_type": "markdown",
   "metadata": {},
   "source": [
    "## Criação e treino da rede -> Xception 126layers"
   ]
  },
  {
   "cell_type": "raw",
   "metadata": {},
   "source": [
    "Tendo todos os dados carregados e prontos para passar a rede, podemos seguir para a contrução e treino da mesma. Assim, neste notebook, tal como referido anteriormente, utilizaremos a rede Xception. Esta pode ser definida através da sua API, especificando os parametros mais importantes tais como:\n",
    "    -> include_top => inclusão de uma camada completamente conetada no topo da rede\n",
    "    -> weights => pesos relativos aos neuronios (neste caso começo aleatório, em vez de uso de uma rede pré-treinada)\n",
    "    -> input_tensor => utilização de um tensor do Keras para utilização de imagens (desnecessário para o problema em questão)\n",
    "    -> input_shape => formato do input à rede (tal como referido anteriormente (256,256,1) -> 256pixeis * 256pixeis *1 canal)\n",
    "    -> pooling => como o include_top é True, não se utiliza este parametro\n",
    "    -> classes => número de classes existentes de output (8 bins que a rede tenta prever em qual se encontra a imagem de input)"
   ]
  },
  {
   "cell_type": "code",
   "execution_count": 15,
   "metadata": {},
   "outputs": [],
   "source": [
    "import tensorflow as tf\n",
    "\n",
    "model = tf.keras.applications.Xception(\n",
    "    include_top=True,\n",
    "    weights=None,\n",
    "    input_tensor=None,\n",
    "    input_shape=(256,256,1),\n",
    "    pooling=None,\n",
    "    classes=8,\n",
    ")"
   ]
  },
  {
   "cell_type": "code",
   "execution_count": 16,
   "metadata": {},
   "outputs": [
    {
     "name": "stdout",
     "output_type": "stream",
     "text": [
      "Model: \"xception\"\n",
      "__________________________________________________________________________________________________\n",
      "Layer (type)                    Output Shape         Param #     Connected to                     \n",
      "==================================================================================================\n",
      "input_1 (InputLayer)            [(None, 256, 256, 1) 0                                            \n",
      "__________________________________________________________________________________________________\n",
      "block1_conv1 (Conv2D)           (None, 127, 127, 32) 288         input_1[0][0]                    \n",
      "__________________________________________________________________________________________________\n",
      "block1_conv1_bn (BatchNormaliza (None, 127, 127, 32) 128         block1_conv1[0][0]               \n",
      "__________________________________________________________________________________________________\n",
      "block1_conv1_act (Activation)   (None, 127, 127, 32) 0           block1_conv1_bn[0][0]            \n",
      "__________________________________________________________________________________________________\n",
      "block1_conv2 (Conv2D)           (None, 125, 125, 64) 18432       block1_conv1_act[0][0]           \n",
      "__________________________________________________________________________________________________\n",
      "block1_conv2_bn (BatchNormaliza (None, 125, 125, 64) 256         block1_conv2[0][0]               \n",
      "__________________________________________________________________________________________________\n",
      "block1_conv2_act (Activation)   (None, 125, 125, 64) 0           block1_conv2_bn[0][0]            \n",
      "__________________________________________________________________________________________________\n",
      "block2_sepconv1 (SeparableConv2 (None, 125, 125, 128 8768        block1_conv2_act[0][0]           \n",
      "__________________________________________________________________________________________________\n",
      "block2_sepconv1_bn (BatchNormal (None, 125, 125, 128 512         block2_sepconv1[0][0]            \n",
      "__________________________________________________________________________________________________\n",
      "block2_sepconv2_act (Activation (None, 125, 125, 128 0           block2_sepconv1_bn[0][0]         \n",
      "__________________________________________________________________________________________________\n",
      "block2_sepconv2 (SeparableConv2 (None, 125, 125, 128 17536       block2_sepconv2_act[0][0]        \n",
      "__________________________________________________________________________________________________\n",
      "block2_sepconv2_bn (BatchNormal (None, 125, 125, 128 512         block2_sepconv2[0][0]            \n",
      "__________________________________________________________________________________________________\n",
      "conv2d (Conv2D)                 (None, 63, 63, 128)  8192        block1_conv2_act[0][0]           \n",
      "__________________________________________________________________________________________________\n",
      "block2_pool (MaxPooling2D)      (None, 63, 63, 128)  0           block2_sepconv2_bn[0][0]         \n",
      "__________________________________________________________________________________________________\n",
      "batch_normalization (BatchNorma (None, 63, 63, 128)  512         conv2d[0][0]                     \n",
      "__________________________________________________________________________________________________\n",
      "add (Add)                       (None, 63, 63, 128)  0           block2_pool[0][0]                \n",
      "                                                                 batch_normalization[0][0]        \n",
      "__________________________________________________________________________________________________\n",
      "block3_sepconv1_act (Activation (None, 63, 63, 128)  0           add[0][0]                        \n",
      "__________________________________________________________________________________________________\n",
      "block3_sepconv1 (SeparableConv2 (None, 63, 63, 256)  33920       block3_sepconv1_act[0][0]        \n",
      "__________________________________________________________________________________________________\n",
      "block3_sepconv1_bn (BatchNormal (None, 63, 63, 256)  1024        block3_sepconv1[0][0]            \n",
      "__________________________________________________________________________________________________\n",
      "block3_sepconv2_act (Activation (None, 63, 63, 256)  0           block3_sepconv1_bn[0][0]         \n",
      "__________________________________________________________________________________________________\n",
      "block3_sepconv2 (SeparableConv2 (None, 63, 63, 256)  67840       block3_sepconv2_act[0][0]        \n",
      "__________________________________________________________________________________________________\n",
      "block3_sepconv2_bn (BatchNormal (None, 63, 63, 256)  1024        block3_sepconv2[0][0]            \n",
      "__________________________________________________________________________________________________\n",
      "conv2d_1 (Conv2D)               (None, 32, 32, 256)  32768       add[0][0]                        \n",
      "__________________________________________________________________________________________________\n",
      "block3_pool (MaxPooling2D)      (None, 32, 32, 256)  0           block3_sepconv2_bn[0][0]         \n",
      "__________________________________________________________________________________________________\n",
      "batch_normalization_1 (BatchNor (None, 32, 32, 256)  1024        conv2d_1[0][0]                   \n",
      "__________________________________________________________________________________________________\n",
      "add_1 (Add)                     (None, 32, 32, 256)  0           block3_pool[0][0]                \n",
      "                                                                 batch_normalization_1[0][0]      \n",
      "__________________________________________________________________________________________________\n",
      "block4_sepconv1_act (Activation (None, 32, 32, 256)  0           add_1[0][0]                      \n",
      "__________________________________________________________________________________________________\n",
      "block4_sepconv1 (SeparableConv2 (None, 32, 32, 728)  188672      block4_sepconv1_act[0][0]        \n",
      "__________________________________________________________________________________________________\n",
      "block4_sepconv1_bn (BatchNormal (None, 32, 32, 728)  2912        block4_sepconv1[0][0]            \n",
      "__________________________________________________________________________________________________\n",
      "block4_sepconv2_act (Activation (None, 32, 32, 728)  0           block4_sepconv1_bn[0][0]         \n",
      "__________________________________________________________________________________________________\n",
      "block4_sepconv2 (SeparableConv2 (None, 32, 32, 728)  536536      block4_sepconv2_act[0][0]        \n",
      "__________________________________________________________________________________________________\n",
      "block4_sepconv2_bn (BatchNormal (None, 32, 32, 728)  2912        block4_sepconv2[0][0]            \n",
      "__________________________________________________________________________________________________\n",
      "conv2d_2 (Conv2D)               (None, 16, 16, 728)  186368      add_1[0][0]                      \n",
      "__________________________________________________________________________________________________\n",
      "block4_pool (MaxPooling2D)      (None, 16, 16, 728)  0           block4_sepconv2_bn[0][0]         \n",
      "__________________________________________________________________________________________________\n",
      "batch_normalization_2 (BatchNor (None, 16, 16, 728)  2912        conv2d_2[0][0]                   \n",
      "__________________________________________________________________________________________________\n",
      "add_2 (Add)                     (None, 16, 16, 728)  0           block4_pool[0][0]                \n",
      "                                                                 batch_normalization_2[0][0]      \n",
      "__________________________________________________________________________________________________\n",
      "block5_sepconv1_act (Activation (None, 16, 16, 728)  0           add_2[0][0]                      \n",
      "__________________________________________________________________________________________________\n",
      "block5_sepconv1 (SeparableConv2 (None, 16, 16, 728)  536536      block5_sepconv1_act[0][0]        \n",
      "__________________________________________________________________________________________________\n",
      "block5_sepconv1_bn (BatchNormal (None, 16, 16, 728)  2912        block5_sepconv1[0][0]            \n",
      "__________________________________________________________________________________________________\n",
      "block5_sepconv2_act (Activation (None, 16, 16, 728)  0           block5_sepconv1_bn[0][0]         \n",
      "__________________________________________________________________________________________________\n",
      "block5_sepconv2 (SeparableConv2 (None, 16, 16, 728)  536536      block5_sepconv2_act[0][0]        \n",
      "__________________________________________________________________________________________________\n",
      "block5_sepconv2_bn (BatchNormal (None, 16, 16, 728)  2912        block5_sepconv2[0][0]            \n",
      "__________________________________________________________________________________________________\n",
      "block5_sepconv3_act (Activation (None, 16, 16, 728)  0           block5_sepconv2_bn[0][0]         \n",
      "__________________________________________________________________________________________________\n",
      "block5_sepconv3 (SeparableConv2 (None, 16, 16, 728)  536536      block5_sepconv3_act[0][0]        \n",
      "__________________________________________________________________________________________________\n",
      "block5_sepconv3_bn (BatchNormal (None, 16, 16, 728)  2912        block5_sepconv3[0][0]            \n",
      "__________________________________________________________________________________________________\n",
      "add_3 (Add)                     (None, 16, 16, 728)  0           block5_sepconv3_bn[0][0]         \n",
      "                                                                 add_2[0][0]                      \n",
      "__________________________________________________________________________________________________\n",
      "block6_sepconv1_act (Activation (None, 16, 16, 728)  0           add_3[0][0]                      \n",
      "__________________________________________________________________________________________________\n",
      "block6_sepconv1 (SeparableConv2 (None, 16, 16, 728)  536536      block6_sepconv1_act[0][0]        \n",
      "__________________________________________________________________________________________________\n",
      "block6_sepconv1_bn (BatchNormal (None, 16, 16, 728)  2912        block6_sepconv1[0][0]            \n",
      "__________________________________________________________________________________________________\n",
      "block6_sepconv2_act (Activation (None, 16, 16, 728)  0           block6_sepconv1_bn[0][0]         \n",
      "__________________________________________________________________________________________________\n",
      "block6_sepconv2 (SeparableConv2 (None, 16, 16, 728)  536536      block6_sepconv2_act[0][0]        \n",
      "__________________________________________________________________________________________________\n",
      "block6_sepconv2_bn (BatchNormal (None, 16, 16, 728)  2912        block6_sepconv2[0][0]            \n",
      "__________________________________________________________________________________________________\n",
      "block6_sepconv3_act (Activation (None, 16, 16, 728)  0           block6_sepconv2_bn[0][0]         \n",
      "__________________________________________________________________________________________________\n",
      "block6_sepconv3 (SeparableConv2 (None, 16, 16, 728)  536536      block6_sepconv3_act[0][0]        \n",
      "__________________________________________________________________________________________________\n",
      "block6_sepconv3_bn (BatchNormal (None, 16, 16, 728)  2912        block6_sepconv3[0][0]            \n",
      "__________________________________________________________________________________________________\n",
      "add_4 (Add)                     (None, 16, 16, 728)  0           block6_sepconv3_bn[0][0]         \n",
      "                                                                 add_3[0][0]                      \n",
      "__________________________________________________________________________________________________\n",
      "block7_sepconv1_act (Activation (None, 16, 16, 728)  0           add_4[0][0]                      \n",
      "__________________________________________________________________________________________________\n",
      "block7_sepconv1 (SeparableConv2 (None, 16, 16, 728)  536536      block7_sepconv1_act[0][0]        \n",
      "__________________________________________________________________________________________________\n",
      "block7_sepconv1_bn (BatchNormal (None, 16, 16, 728)  2912        block7_sepconv1[0][0]            \n",
      "__________________________________________________________________________________________________\n",
      "block7_sepconv2_act (Activation (None, 16, 16, 728)  0           block7_sepconv1_bn[0][0]         \n",
      "__________________________________________________________________________________________________\n",
      "block7_sepconv2 (SeparableConv2 (None, 16, 16, 728)  536536      block7_sepconv2_act[0][0]        \n",
      "__________________________________________________________________________________________________\n",
      "block7_sepconv2_bn (BatchNormal (None, 16, 16, 728)  2912        block7_sepconv2[0][0]            \n",
      "__________________________________________________________________________________________________\n",
      "block7_sepconv3_act (Activation (None, 16, 16, 728)  0           block7_sepconv2_bn[0][0]         \n",
      "__________________________________________________________________________________________________\n",
      "block7_sepconv3 (SeparableConv2 (None, 16, 16, 728)  536536      block7_sepconv3_act[0][0]        \n",
      "__________________________________________________________________________________________________\n",
      "block7_sepconv3_bn (BatchNormal (None, 16, 16, 728)  2912        block7_sepconv3[0][0]            \n",
      "__________________________________________________________________________________________________\n",
      "add_5 (Add)                     (None, 16, 16, 728)  0           block7_sepconv3_bn[0][0]         \n",
      "                                                                 add_4[0][0]                      \n",
      "__________________________________________________________________________________________________\n",
      "block8_sepconv1_act (Activation (None, 16, 16, 728)  0           add_5[0][0]                      \n",
      "__________________________________________________________________________________________________\n",
      "block8_sepconv1 (SeparableConv2 (None, 16, 16, 728)  536536      block8_sepconv1_act[0][0]        \n",
      "__________________________________________________________________________________________________\n",
      "block8_sepconv1_bn (BatchNormal (None, 16, 16, 728)  2912        block8_sepconv1[0][0]            \n",
      "__________________________________________________________________________________________________\n",
      "block8_sepconv2_act (Activation (None, 16, 16, 728)  0           block8_sepconv1_bn[0][0]         \n",
      "__________________________________________________________________________________________________\n",
      "block8_sepconv2 (SeparableConv2 (None, 16, 16, 728)  536536      block8_sepconv2_act[0][0]        \n",
      "__________________________________________________________________________________________________\n",
      "block8_sepconv2_bn (BatchNormal (None, 16, 16, 728)  2912        block8_sepconv2[0][0]            \n",
      "__________________________________________________________________________________________________\n",
      "block8_sepconv3_act (Activation (None, 16, 16, 728)  0           block8_sepconv2_bn[0][0]         \n",
      "__________________________________________________________________________________________________\n",
      "block8_sepconv3 (SeparableConv2 (None, 16, 16, 728)  536536      block8_sepconv3_act[0][0]        \n",
      "__________________________________________________________________________________________________\n",
      "block8_sepconv3_bn (BatchNormal (None, 16, 16, 728)  2912        block8_sepconv3[0][0]            \n",
      "__________________________________________________________________________________________________\n",
      "add_6 (Add)                     (None, 16, 16, 728)  0           block8_sepconv3_bn[0][0]         \n",
      "                                                                 add_5[0][0]                      \n",
      "__________________________________________________________________________________________________\n",
      "block9_sepconv1_act (Activation (None, 16, 16, 728)  0           add_6[0][0]                      \n",
      "__________________________________________________________________________________________________\n",
      "block9_sepconv1 (SeparableConv2 (None, 16, 16, 728)  536536      block9_sepconv1_act[0][0]        \n",
      "__________________________________________________________________________________________________\n",
      "block9_sepconv1_bn (BatchNormal (None, 16, 16, 728)  2912        block9_sepconv1[0][0]            \n",
      "__________________________________________________________________________________________________\n",
      "block9_sepconv2_act (Activation (None, 16, 16, 728)  0           block9_sepconv1_bn[0][0]         \n",
      "__________________________________________________________________________________________________\n",
      "block9_sepconv2 (SeparableConv2 (None, 16, 16, 728)  536536      block9_sepconv2_act[0][0]        \n",
      "__________________________________________________________________________________________________\n",
      "block9_sepconv2_bn (BatchNormal (None, 16, 16, 728)  2912        block9_sepconv2[0][0]            \n",
      "__________________________________________________________________________________________________\n",
      "block9_sepconv3_act (Activation (None, 16, 16, 728)  0           block9_sepconv2_bn[0][0]         \n",
      "__________________________________________________________________________________________________\n",
      "block9_sepconv3 (SeparableConv2 (None, 16, 16, 728)  536536      block9_sepconv3_act[0][0]        \n",
      "__________________________________________________________________________________________________\n",
      "block9_sepconv3_bn (BatchNormal (None, 16, 16, 728)  2912        block9_sepconv3[0][0]            \n",
      "__________________________________________________________________________________________________\n",
      "add_7 (Add)                     (None, 16, 16, 728)  0           block9_sepconv3_bn[0][0]         \n",
      "                                                                 add_6[0][0]                      \n",
      "__________________________________________________________________________________________________\n",
      "block10_sepconv1_act (Activatio (None, 16, 16, 728)  0           add_7[0][0]                      \n",
      "__________________________________________________________________________________________________\n",
      "block10_sepconv1 (SeparableConv (None, 16, 16, 728)  536536      block10_sepconv1_act[0][0]       \n",
      "__________________________________________________________________________________________________\n",
      "block10_sepconv1_bn (BatchNorma (None, 16, 16, 728)  2912        block10_sepconv1[0][0]           \n",
      "__________________________________________________________________________________________________\n",
      "block10_sepconv2_act (Activatio (None, 16, 16, 728)  0           block10_sepconv1_bn[0][0]        \n",
      "__________________________________________________________________________________________________\n",
      "block10_sepconv2 (SeparableConv (None, 16, 16, 728)  536536      block10_sepconv2_act[0][0]       \n",
      "__________________________________________________________________________________________________\n",
      "block10_sepconv2_bn (BatchNorma (None, 16, 16, 728)  2912        block10_sepconv2[0][0]           \n",
      "__________________________________________________________________________________________________\n",
      "block10_sepconv3_act (Activatio (None, 16, 16, 728)  0           block10_sepconv2_bn[0][0]        \n",
      "__________________________________________________________________________________________________\n",
      "block10_sepconv3 (SeparableConv (None, 16, 16, 728)  536536      block10_sepconv3_act[0][0]       \n",
      "__________________________________________________________________________________________________\n",
      "block10_sepconv3_bn (BatchNorma (None, 16, 16, 728)  2912        block10_sepconv3[0][0]           \n",
      "__________________________________________________________________________________________________\n",
      "add_8 (Add)                     (None, 16, 16, 728)  0           block10_sepconv3_bn[0][0]        \n",
      "                                                                 add_7[0][0]                      \n",
      "__________________________________________________________________________________________________\n",
      "block11_sepconv1_act (Activatio (None, 16, 16, 728)  0           add_8[0][0]                      \n",
      "__________________________________________________________________________________________________\n",
      "block11_sepconv1 (SeparableConv (None, 16, 16, 728)  536536      block11_sepconv1_act[0][0]       \n",
      "__________________________________________________________________________________________________\n",
      "block11_sepconv1_bn (BatchNorma (None, 16, 16, 728)  2912        block11_sepconv1[0][0]           \n",
      "__________________________________________________________________________________________________\n",
      "block11_sepconv2_act (Activatio (None, 16, 16, 728)  0           block11_sepconv1_bn[0][0]        \n",
      "__________________________________________________________________________________________________\n",
      "block11_sepconv2 (SeparableConv (None, 16, 16, 728)  536536      block11_sepconv2_act[0][0]       \n",
      "__________________________________________________________________________________________________\n",
      "block11_sepconv2_bn (BatchNorma (None, 16, 16, 728)  2912        block11_sepconv2[0][0]           \n",
      "__________________________________________________________________________________________________\n",
      "block11_sepconv3_act (Activatio (None, 16, 16, 728)  0           block11_sepconv2_bn[0][0]        \n",
      "__________________________________________________________________________________________________\n",
      "block11_sepconv3 (SeparableConv (None, 16, 16, 728)  536536      block11_sepconv3_act[0][0]       \n",
      "__________________________________________________________________________________________________\n",
      "block11_sepconv3_bn (BatchNorma (None, 16, 16, 728)  2912        block11_sepconv3[0][0]           \n",
      "__________________________________________________________________________________________________\n",
      "add_9 (Add)                     (None, 16, 16, 728)  0           block11_sepconv3_bn[0][0]        \n",
      "                                                                 add_8[0][0]                      \n",
      "__________________________________________________________________________________________________\n",
      "block12_sepconv1_act (Activatio (None, 16, 16, 728)  0           add_9[0][0]                      \n",
      "__________________________________________________________________________________________________\n",
      "block12_sepconv1 (SeparableConv (None, 16, 16, 728)  536536      block12_sepconv1_act[0][0]       \n",
      "__________________________________________________________________________________________________\n",
      "block12_sepconv1_bn (BatchNorma (None, 16, 16, 728)  2912        block12_sepconv1[0][0]           \n",
      "__________________________________________________________________________________________________\n",
      "block12_sepconv2_act (Activatio (None, 16, 16, 728)  0           block12_sepconv1_bn[0][0]        \n",
      "__________________________________________________________________________________________________\n",
      "block12_sepconv2 (SeparableConv (None, 16, 16, 728)  536536      block12_sepconv2_act[0][0]       \n",
      "__________________________________________________________________________________________________\n",
      "block12_sepconv2_bn (BatchNorma (None, 16, 16, 728)  2912        block12_sepconv2[0][0]           \n",
      "__________________________________________________________________________________________________\n",
      "block12_sepconv3_act (Activatio (None, 16, 16, 728)  0           block12_sepconv2_bn[0][0]        \n",
      "__________________________________________________________________________________________________\n",
      "block12_sepconv3 (SeparableConv (None, 16, 16, 728)  536536      block12_sepconv3_act[0][0]       \n",
      "__________________________________________________________________________________________________\n",
      "block12_sepconv3_bn (BatchNorma (None, 16, 16, 728)  2912        block12_sepconv3[0][0]           \n",
      "__________________________________________________________________________________________________\n",
      "add_10 (Add)                    (None, 16, 16, 728)  0           block12_sepconv3_bn[0][0]        \n",
      "                                                                 add_9[0][0]                      \n",
      "__________________________________________________________________________________________________\n",
      "block13_sepconv1_act (Activatio (None, 16, 16, 728)  0           add_10[0][0]                     \n",
      "__________________________________________________________________________________________________\n",
      "block13_sepconv1 (SeparableConv (None, 16, 16, 728)  536536      block13_sepconv1_act[0][0]       \n",
      "__________________________________________________________________________________________________\n",
      "block13_sepconv1_bn (BatchNorma (None, 16, 16, 728)  2912        block13_sepconv1[0][0]           \n",
      "__________________________________________________________________________________________________\n",
      "block13_sepconv2_act (Activatio (None, 16, 16, 728)  0           block13_sepconv1_bn[0][0]        \n",
      "__________________________________________________________________________________________________\n",
      "block13_sepconv2 (SeparableConv (None, 16, 16, 1024) 752024      block13_sepconv2_act[0][0]       \n",
      "__________________________________________________________________________________________________\n",
      "block13_sepconv2_bn (BatchNorma (None, 16, 16, 1024) 4096        block13_sepconv2[0][0]           \n",
      "__________________________________________________________________________________________________\n",
      "conv2d_3 (Conv2D)               (None, 8, 8, 1024)   745472      add_10[0][0]                     \n",
      "__________________________________________________________________________________________________\n",
      "block13_pool (MaxPooling2D)     (None, 8, 8, 1024)   0           block13_sepconv2_bn[0][0]        \n",
      "__________________________________________________________________________________________________\n",
      "batch_normalization_3 (BatchNor (None, 8, 8, 1024)   4096        conv2d_3[0][0]                   \n",
      "__________________________________________________________________________________________________\n",
      "add_11 (Add)                    (None, 8, 8, 1024)   0           block13_pool[0][0]               \n",
      "                                                                 batch_normalization_3[0][0]      \n",
      "__________________________________________________________________________________________________\n",
      "block14_sepconv1 (SeparableConv (None, 8, 8, 1536)   1582080     add_11[0][0]                     \n",
      "__________________________________________________________________________________________________\n",
      "block14_sepconv1_bn (BatchNorma (None, 8, 8, 1536)   6144        block14_sepconv1[0][0]           \n",
      "__________________________________________________________________________________________________\n",
      "block14_sepconv1_act (Activatio (None, 8, 8, 1536)   0           block14_sepconv1_bn[0][0]        \n",
      "__________________________________________________________________________________________________\n",
      "block14_sepconv2 (SeparableConv (None, 8, 8, 2048)   3159552     block14_sepconv1_act[0][0]       \n",
      "__________________________________________________________________________________________________\n",
      "block14_sepconv2_bn (BatchNorma (None, 8, 8, 2048)   8192        block14_sepconv2[0][0]           \n",
      "__________________________________________________________________________________________________\n",
      "block14_sepconv2_act (Activatio (None, 8, 8, 2048)   0           block14_sepconv2_bn[0][0]        \n",
      "__________________________________________________________________________________________________\n",
      "avg_pool (GlobalAveragePooling2 (None, 2048)         0           block14_sepconv2_act[0][0]       \n",
      "__________________________________________________________________________________________________\n",
      "predictions (Dense)             (None, 8)            16392       avg_pool[0][0]                   \n",
      "==================================================================================================\n",
      "Total params: 20,877,296\n",
      "Trainable params: 20,822,768\n",
      "Non-trainable params: 54,528\n",
      "__________________________________________________________________________________________________\n"
     ]
    }
   ],
   "source": [
    "#Verificação das camadas existentes na rede \n",
    "model.summary()"
   ]
  },
  {
   "cell_type": "raw",
   "metadata": {},
   "source": [
    "Definição das métricas do modelo, \"standard\" para este problema de classificação"
   ]
  },
  {
   "cell_type": "code",
   "execution_count": 17,
   "metadata": {},
   "outputs": [],
   "source": [
    "model.compile(optimizer='rmsprop', loss='categorical_crossentropy', metrics=['accuracy'])"
   ]
  },
  {
   "cell_type": "code",
   "execution_count": 18,
   "metadata": {},
   "outputs": [
    {
     "data": {
      "text/plain": [
       "11101"
      ]
     },
     "execution_count": 18,
     "metadata": {},
     "output_type": "execute_result"
    }
   ],
   "source": [
    "len(train_labels)"
   ]
  },
  {
   "cell_type": "raw",
   "metadata": {},
   "source": [
    "Neste ponto, somos capazes de treinar a rede, todavia este é um processo lento e computacionalmente pesado. Assim, consideramos mais seguro e eficiente, a cada X epochs (3 neste caso) gravar o modelo. Deste modo, caso o kernel morra ou a conexão se perca (eg, ligação ao colab ou a centro de processamento) pode-se carregar o modelo, até ao momento treinado, e prosseguir para as seguintes epochs. \n",
    "\n",
    "Uma vez que o número de dados é \"reduzido\" (11k fotos) consideramos que um batch size pequeno seria benéfico para uma melhor aprendizagem. Por fim consideramos tambem que com esta abordagem, ser-nos-ia mais facil contornar o overfitiing, uma vez que conseeguiriamos aceder a modelos gerados antes de atingir esse ponto (que acaba por piorar a performance da rede)"
   ]
  },
  {
   "cell_type": "code",
   "execution_count": null,
   "metadata": {},
   "outputs": [],
   "source": [
    "for i in range (10):\n",
    "    name = \"XceptionAgeV\" + str(i) + \".h5\"\n",
    "    model.fit(train_images, train_labels, epochs=3, batch_size=16)\n",
    "    model.save(name)"
   ]
  },
  {
   "cell_type": "raw",
   "metadata": {},
   "source": [
    "Após o treino da rede, carregamos 3 modelos distintos de modo a comparar a performance destes.\n",
    "O primeiro é obviamente antes de esta entrar em OF, cresimento de acc por epoch constante e diminuto\n",
    "O segundo era a meio do processo de entrar em OF, o crescimento era mais significativo, mas ainda estava efetivamente a aprender e não a especificar-se aos dados do dataset\n",
    "A terceira é já em OF, aumento de acc significativo, não por aprendizagem, mas por especificação, perdendo assim a capacidade de generalizar para novos dados (facil de verificar que está em OF, pelos valores obtidos abaixo -> menos acc em teste)"
   ]
  },
  {
   "cell_type": "code",
   "execution_count": 82,
   "metadata": {},
   "outputs": [],
   "source": [
    "from tensorflow.keras.models import load_model\n",
    "modelPenultimo = load_model(\"XceptionAge5.h5\")"
   ]
  },
  {
   "cell_type": "code",
   "execution_count": 83,
   "metadata": {},
   "outputs": [],
   "source": [
    "modelBeforeOF = load_model(\"XceptionAge4.h5\")"
   ]
  },
  {
   "cell_type": "code",
   "execution_count": 84,
   "metadata": {},
   "outputs": [],
   "source": [
    "modelAfterOF = load_model(\"XceptionAge6.h5\")"
   ]
  },
  {
   "cell_type": "raw",
   "metadata": {},
   "source": [
    "De modo a verificar que estes 3 conjuntos correspondem aos intervalos achados (pré,\"durante\" e após OF), corremos os dados de teste. Assim foi possível verificar que tal é verdade, pelo aumento da precisão até ao penultimo modelo, onde o ultimo (já em OF) perde em cenário de teste, pois não consegue generalizar para dados novos.\n",
    "\n",
    "Tal como podemos ver abaixo, da primeira rede para a segunda houve um bom aumento de acc (a rede aprendeu durante essas epochs), todavia da segunda para a terceira perdeu-se (a rede deixou de treinar e passou a especificar-se nos dados que continha para treino == OF). Curiosamente continua superior à primeira, pois apesar de ter entrado em OF, possui mais treino, sendo ainda assim mais apta à previsão"
   ]
  },
  {
   "cell_type": "code",
   "execution_count": 103,
   "metadata": {},
   "outputs": [
    {
     "name": "stdout",
     "output_type": "stream",
     "text": [
      "87/87 [==============================] - 13s 148ms/step - loss: 1.6980 - accuracy: 0.3004\n"
     ]
    }
   ],
   "source": [
    "test_loss, test_acc = modelBeforeOF.evaluate(test_images, test_labels)"
   ]
  },
  {
   "cell_type": "code",
   "execution_count": 86,
   "metadata": {},
   "outputs": [
    {
     "name": "stdout",
     "output_type": "stream",
     "text": [
      "87/87 [==============================] - 13s 152ms/step - loss: 1.4010 - accuracy: 0.4416\n"
     ]
    }
   ],
   "source": [
    "test_loss, test_acc = modelPenultimo.evaluate(test_images, test_labels)"
   ]
  },
  {
   "cell_type": "code",
   "execution_count": 87,
   "metadata": {},
   "outputs": [
    {
     "name": "stdout",
     "output_type": "stream",
     "text": [
      "87/87 [==============================] - 13s 151ms/step - loss: 2.7084 - accuracy: 0.3372\n"
     ]
    }
   ],
   "source": [
    "test_loss, test_acc = modelAfterOF.evaluate(test_images, test_labels)"
   ]
  },
  {
   "cell_type": "raw",
   "metadata": {},
   "source": [
    "Uma vez que este é um problema tão \"complexo\", consideramos relevante não só ver a sua precisão em teste, como a sua precisão de 1Off, ou seja, contar como certo se este previr um bin diretamente adjacente ao correto (um acima ou abaixo). Deste modo definimos a função oneOff, que ira retornar a precisão geral da rede com esta \"benesse\" e a oneOffbyClass, que ira retornar a precisão em cada bin com 1Off.\n",
    "\n",
    "Por fim, definimos tambem a accByClass que corresponde a precisão exata para cada classe (de modo a identificar onde a rede mais falha/acerta), tornando assim os resultados algo mais \"palpavel\""
   ]
  },
  {
   "cell_type": "code",
   "execution_count": 88,
   "metadata": {},
   "outputs": [],
   "source": [
    "\n",
    "def oneOff(predictions,correct):\n",
    "    acc = 0\n",
    "    for i in range(len(predictions)):\n",
    "        if(np.argmax(predictions[i])==np.argmax(correct[i])+1):\n",
    "            acc = acc + 1 ;\n",
    "        if(np.argmax(predictions[i])==np.argmax(correct[i])-1): \n",
    "            acc = acc + 1 ;\n",
    "        if(np.argmax(predictions[i])==np.argmax(correct[i])):\n",
    "            acc = acc + 1 ;\n",
    "    return (acc/len(predictions))*100;"
   ]
  },
  {
   "cell_type": "code",
   "execution_count": 89,
   "metadata": {},
   "outputs": [],
   "source": [
    "def oneOfbyClass(predictions,correct):\n",
    "    acc = [0,0,0,0,0,0,0,0]\n",
    "    listaLabels = [\"18_21\",\"22_24\",\"25_28\",\"29_33\",\"34_40\",\"41_47\",\"48_55\",\"56_65\"]\n",
    "        \n",
    "    for i in range(len(predictions)):\n",
    "        if(np.argmax(predictions[i])==np.argmax(correct[i])+1):\n",
    "            acc[np.argmax(correct[i])] = acc[np.argmax(correct[i])] + 1 ;\n",
    "        if(np.argmax(predictions[i])==np.argmax(correct[i])-1): \n",
    "            acc[np.argmax(correct[i])] = acc[np.argmax(correct[i])] + 1 ;\n",
    "        if(np.argmax(predictions[i])==np.argmax(correct[i])):\n",
    "            acc[np.argmax(correct[i])] = acc[np.argmax(correct[i])] + 1 ;\n",
    "    \n",
    "    listaIndices = [0,0,0,0,0,0,0,0]\n",
    "    for i in range(len(correct)):\n",
    "        listaIndices[np.argmax(correct[i])] = listaIndices[np.argmax(correct[i])] + 1\n",
    "    \n",
    "    newlista = []\n",
    "    for i in range(len(listaIndices)):\n",
    "        newlista.append(((acc[i]/listaIndices[i])*100,listaLabels[i]))\n",
    "        \n",
    "    \n",
    "    \n",
    "    return newlista;"
   ]
  },
  {
   "cell_type": "code",
   "execution_count": 90,
   "metadata": {},
   "outputs": [],
   "source": [
    "def accByClass(predictions,correct):\n",
    "    acc = [0,0,0,0,0,0,0,0]\n",
    "    listaLabels = [\"18_21\",\"22_24\",\"25_28\",\"29_33\",\"34_40\",\"41_47\",\"48_55\",\"56_65\"]\n",
    "\n",
    "    for i in range(len(predictions)):\n",
    "        if(np.argmax(predictions[i])==np.argmax(correct[i])):\n",
    "            acc[np.argmax(correct[i])] = acc[np.argmax(correct[i])] + 1 ;\n",
    "    \n",
    "    listaIndices = [0,0,0,0,0,0,0,0]\n",
    "    for i in range(len(correct)):\n",
    "        listaIndices[np.argmax(correct[i])] = listaIndices[np.argmax(correct[i])] + 1\n",
    "    \n",
    "    newlista = []\n",
    "    for i in range(len(listaIndices)):\n",
    "        newlista.append(((acc[i]/listaIndices[i])*100,listaLabels[i]))\n",
    "    \n",
    "    return newlista;"
   ]
  },
  {
   "cell_type": "raw",
   "metadata": {},
   "source": [
    "Deste modo podemos passar para a previsão da rede para as imagens de teste. Com estas iremos então calcular as 3 diferentes métricas: 1Off - 1OffByClass - AccuracyByClass"
   ]
  },
  {
   "cell_type": "code",
   "execution_count": 91,
   "metadata": {},
   "outputs": [],
   "source": [
    "predictionsBOF = modelBeforeOF.predict(test_images)"
   ]
  },
  {
   "cell_type": "code",
   "execution_count": 92,
   "metadata": {},
   "outputs": [],
   "source": [
    "predictionsPOF = modelPenultimo.predict(test_images)"
   ]
  },
  {
   "cell_type": "code",
   "execution_count": 93,
   "metadata": {},
   "outputs": [],
   "source": [
    "predictionsAOF = modelAfterOF.predict(test_images)"
   ]
  },
  {
   "cell_type": "markdown",
   "metadata": {},
   "source": [
    "### One Off"
   ]
  },
  {
   "cell_type": "raw",
   "metadata": {},
   "source": [
    "Tal como se pode verificar abaixo, o modelo que possuia melhor accuracy, como era de esperar, também é o que possui melhor accuracy por 1 off. Com este modelo conseguimos atingir uma precisão de 44.16% para o bin correto e 82.64% para oneOff, sendo estes valores consideramos de extremo sucesso (em comparação com o atual state of the art)."
   ]
  },
  {
   "cell_type": "code",
   "execution_count": 94,
   "metadata": {},
   "outputs": [
    {
     "data": {
      "text/plain": [
       "71.00144092219021"
      ]
     },
     "execution_count": 94,
     "metadata": {},
     "output_type": "execute_result"
    }
   ],
   "source": [
    "oneOff(predictionsBOF,test_labels)"
   ]
  },
  {
   "cell_type": "code",
   "execution_count": 95,
   "metadata": {},
   "outputs": [
    {
     "data": {
      "text/plain": [
       "82.63688760806916"
      ]
     },
     "execution_count": 95,
     "metadata": {},
     "output_type": "execute_result"
    }
   ],
   "source": [
    "oneOff(predictionsPOF,test_labels)"
   ]
  },
  {
   "cell_type": "code",
   "execution_count": 96,
   "metadata": {},
   "outputs": [
    {
     "data": {
      "text/plain": [
       "60.30259365994236"
      ]
     },
     "execution_count": 96,
     "metadata": {},
     "output_type": "execute_result"
    }
   ],
   "source": [
    "oneOff(predictionsAOF,test_labels)"
   ]
  },
  {
   "cell_type": "markdown",
   "metadata": {},
   "source": [
    "### One Off By Class"
   ]
  },
  {
   "cell_type": "raw",
   "metadata": {},
   "source": [
    "De modo a ser mais palpavel ainda os resultados, comparamos os valores de 1off para cada class de modo a evidenciar com as classes de mais sucesso e de mais insucesso. Como se pode verificar baixo, para o melhor modelo as piores classes são as 2 iniciais (compreensivel pela sua pequena dimensão no dataset) e as suas de maior sucesso entre os 25 e os 47 (maior concentração de dados, mais treinado para reconhecer estas idades)"
   ]
  },
  {
   "cell_type": "code",
   "execution_count": 97,
   "metadata": {},
   "outputs": [
    {
     "data": {
      "text/plain": [
       "[(12.345679012345679, '18_21'),\n",
       " (71.04477611940298, '22_24'),\n",
       " (82.86937901498929, '25_28'),\n",
       " (95.82366589327145, '29_33'),\n",
       " (78.14070351758794, '34_40'),\n",
       " (71.33956386292834, '41_47'),\n",
       " (61.858974358974365, '48_55'),\n",
       " (63.19702602230484, '56_65')]"
      ]
     },
     "execution_count": 97,
     "metadata": {},
     "output_type": "execute_result"
    }
   ],
   "source": [
    "oneOfbyClass(predictionsBOF,test_labels)"
   ]
  },
  {
   "cell_type": "code",
   "execution_count": 98,
   "metadata": {},
   "outputs": [
    {
     "data": {
      "text/plain": [
       "[(60.49382716049383, '18_21'),\n",
       " (69.85074626865672, '22_24'),\n",
       " (87.15203426124198, '25_28'),\n",
       " (90.25522041763341, '29_33'),\n",
       " (93.96984924623115, '34_40'),\n",
       " (84.42367601246106, '41_47'),\n",
       " (80.44871794871796, '48_55'),\n",
       " (82.15613382899627, '56_65')]"
      ]
     },
     "execution_count": 98,
     "metadata": {},
     "output_type": "execute_result"
    }
   ],
   "source": [
    "oneOfbyClass(predictionsPOF,test_labels)"
   ]
  },
  {
   "cell_type": "code",
   "execution_count": 99,
   "metadata": {},
   "outputs": [
    {
     "data": {
      "text/plain": [
       "[(99.58847736625515, '18_21'),\n",
       " (96.71641791044776, '22_24'),\n",
       " (10.06423982869379, '25_28'),\n",
       " (12.064965197215777, '29_33'),\n",
       " (58.040201005025125, '34_40'),\n",
       " (72.89719626168224, '41_47'),\n",
       " (92.62820512820514, '48_55'),\n",
       " (94.79553903345726, '56_65')]"
      ]
     },
     "execution_count": 99,
     "metadata": {},
     "output_type": "execute_result"
    }
   ],
   "source": [
    "oneOfbyClass(predictionsAOF,test_labels)"
   ]
  },
  {
   "cell_type": "markdown",
   "metadata": {},
   "source": [
    "### Accuracy By Class"
   ]
  },
  {
   "cell_type": "raw",
   "metadata": {},
   "source": [
    "Por fim decidimos analisar a accuracy para cada bin especifico, uma vez que os valores da acc por classe com 1off levantaram algumas questões. \n",
    "Acima, verificamos uma enorme precisão para as classes médias (entre os 25 e os 47), algo que achamos um pouco peculiar visto serem classes tão proximos e com diferenças possivelmente muito reduzidas. Todavia ao analisarmos os valores baixo, podemos concluir que este valor é alto, exatamente por serem classes bastante proximas, ou seja, quando este erra, muito provavelmente previu como sendo uma classe adjacente e não como um palpite aleatorio (sendo exatamente esta perceção mais palpavel o motivo da utilização desta métrica, permitido nos assim avaliar o sucesso do insucesso da rede)\n"
   ]
  },
  {
   "cell_type": "code",
   "execution_count": 100,
   "metadata": {},
   "outputs": [
    {
     "data": {
      "text/plain": [
       "[(12.345679012345679, '18_21'),\n",
       " (0.0, '22_24'),\n",
       " (59.743040685224834, '25_28'),\n",
       " (32.71461716937355, '29_33'),\n",
       " (40.7035175879397, '34_40'),\n",
       " (22.429906542056074, '41_47'),\n",
       " (31.73076923076923, '48_55'),\n",
       " (18.95910780669145, '56_65')]"
      ]
     },
     "execution_count": 100,
     "metadata": {},
     "output_type": "execute_result"
    }
   ],
   "source": [
    "accByClass(predictionsBOF,test_labels)"
   ]
  },
  {
   "cell_type": "code",
   "execution_count": 101,
   "metadata": {},
   "outputs": [
    {
     "data": {
      "text/plain": [
       "[(40.32921810699588, '18_21'),\n",
       " (28.059701492537314, '22_24'),\n",
       " (37.47323340471092, '25_28'),\n",
       " (61.48491879350348, '29_33'),\n",
       " (55.527638190954775, '34_40'),\n",
       " (36.44859813084112, '41_47'),\n",
       " (29.807692307692307, '48_55'),\n",
       " (60.594795539033456, '56_65')]"
      ]
     },
     "execution_count": 101,
     "metadata": {},
     "output_type": "execute_result"
    }
   ],
   "source": [
    "accByClass(predictionsPOF,test_labels)"
   ]
  },
  {
   "cell_type": "code",
   "execution_count": 102,
   "metadata": {},
   "outputs": [
    {
     "data": {
      "text/plain": [
       "[(98.76543209876543, '18_21'),\n",
       " (2.9850746268656714, '22_24'),\n",
       " (0.21413276231263384, '25_28'),\n",
       " (6.0324825986078885, '29_33'),\n",
       " (31.4070351758794, '34_40'),\n",
       " (48.598130841121495, '41_47'),\n",
       " (43.91025641025641, '48_55'),\n",
       " (89.59107806691449, '56_65')]"
      ]
     },
     "execution_count": 102,
     "metadata": {},
     "output_type": "execute_result"
    }
   ],
   "source": [
    "accByClass(predictionsAOF,test_labels)"
   ]
  },
  {
   "cell_type": "markdown",
   "metadata": {},
   "source": [
    "## Sistema de Inferência por imagem de input"
   ]
  },
  {
   "cell_type": "raw",
   "metadata": {},
   "source": [
    "Tendo a rede definida e com este grau de taxa de sucesso, podemos passar a uma utilização mais prática da rede, onde é possivel carregar uma imagem local da máquina (que já se encontre em 256*256 pixeis) e testar a previsão da rede\n",
    "\n",
    "No exemplo abaixo a pessoa da foto possuia 18 anos, sendo assim o bin 18_21 o palpite correto"
   ]
  },
  {
   "cell_type": "code",
   "execution_count": 104,
   "metadata": {},
   "outputs": [],
   "source": [
    "def predictAge(predictionsPOF):\n",
    "        age = np.argmax(predictionsPOF)\n",
    "        switcher={\n",
    "                0:'18_21',\n",
    "                1:'22_24',\n",
    "                2:'25_28',\n",
    "                3:'29_33',\n",
    "                4:'34_40',\n",
    "                5:'41_47',\n",
    "                6:'48_55',\n",
    "                7:'56_65'\n",
    "             }\n",
    "        return switcher.get(age,\"Invalid index\")"
   ]
  },
  {
   "cell_type": "code",
   "execution_count": 105,
   "metadata": {},
   "outputs": [
    {
     "data": {
      "image/png": "[encoded data removed]",
      "text/plain": [
       "<PIL.Image.Image image mode=L size=256x256 at 0x22FEF9EF888>"
      ]
     },
     "execution_count": 105,
     "metadata": {},
     "output_type": "execute_result"
    }
   ],
   "source": [
    "def rgb2gray(rgb):\n",
    "    return np.dot(rgb[...,:3],[0.2989,0.5870,0.1140])\n",
    "\n",
    "\n",
    "imgTeste = Image.open(\"dias.jpg\")\n",
    "data = np.asarray(imgTeste)/255\n",
    "if(len(data.shape)>2):\n",
    "    data = rgb2gray(data)\n",
    "img =  Image.fromarray((data*255).astype('uint8'))\n",
    "img2CNN =  data.reshape(1, 256, 256, 1)\n",
    "img"
   ]
  },
  {
   "cell_type": "code",
   "execution_count": 106,
   "metadata": {},
   "outputs": [
    {
     "data": {
      "text/plain": [
       "'18_21'"
      ]
     },
     "execution_count": 106,
     "metadata": {},
     "output_type": "execute_result"
    }
   ],
   "source": [
    "predictAge(modelPenultimo.predict(img2CNN))"
   ]
  },
  {
   "cell_type": "markdown",
   "metadata": {},
   "source": [
    "## Verificação de Versões para GPU"
   ]
  },
  {
   "cell_type": "raw",
   "metadata": {},
   "source": [
    "De modo a ser possível correr os modelos relativamente mais rápido, foi utilizado o tensorflow-gpu (este permite tirar partido dos recursos da GPU para o treino da rede). Visto que foi desenvolvido uma CNN e que maior parte dos cálculos é produto matricial, a utilização de uma GPU permite uma melhoria de performance significativa. Para garantir que ficou tudo devidamente instalado e pronto para correr, o ultimo print dos comandos abaixo deverá ser \"GPU is available\""
   ]
  },
  {
   "cell_type": "code",
   "execution_count": 81,
   "metadata": {},
   "outputs": [
    {
     "name": "stdout",
     "output_type": "stream",
     "text": [
      "Tensor Flow Version: 2.2.0\n",
      "Keras Version: 2.3.0-tf\n",
      "\n",
      "Python 3.7.7 (default, May  6 2020, 11:45:54) [MSC v.1916 64 bit (AMD64)]\n",
      "Pandas 1.0.4\n",
      "Scikit-Learn 0.22.1\n",
      "GPU is available\n"
     ]
    }
   ],
   "source": [
    "import sys\n",
    "\n",
    "import tensorflow.keras\n",
    "import pandas as pd\n",
    "import sklearn as sk\n",
    "import tensorflow as tf\n",
    "\n",
    "print(f\"Tensor Flow Version: {tf.__version__}\")\n",
    "print(f\"Keras Version: {tensorflow.keras.__version__}\")\n",
    "print()\n",
    "print(f\"Python {sys.version}\")\n",
    "print(f\"Pandas {pd.__version__}\")\n",
    "print(f\"Scikit-Learn {sk.__version__}\")\n",
    "print(\"GPU is\", \"available\" if tf.config.list_physical_devices('GPU') else \"NOT AVAILABLE\")"
   ]
  }
 ],
 "metadata": {
  "kernelspec": {
   "display_name": "Python 3",
   "language": "python",
   "name": "python3"
  },
  "language_info": {
   "codemirror_mode": {
    "name": "ipython",
    "version": 3
   },
   "file_extension": ".py",
   "mimetype": "text/x-python",
   "name": "python",
   "nbconvert_exporter": "python",
   "pygments_lexer": "ipython3",
   "version": "3.7.7"
  }
 },
 "nbformat": 4,
 "nbformat_minor": 4
}
